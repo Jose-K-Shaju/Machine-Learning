{
  "cells": [
    {
      "cell_type": "code",
      "execution_count": null,
      "metadata": {
        "id": "2Dxnci_NTo_r"
      },
      "outputs": [],
      "source": [
        "import numpy as np\n",
        "import pandas as pd\n",
        "from sklearn.impute import SimpleImputer\n",
        "from sklearn.preprocessing import OneHotEncoder, StandardScaler\n",
        "from sklearn.compose import ColumnTransformer\n",
        "from sklearn.pipeline import Pipeline\n",
        "from sklearn.model_selection import train_test_split"
      ]
    },
    {
      "cell_type": "code",
      "execution_count": null,
      "metadata": {
        "id": "pVxRjbTrTo_u"
      },
      "outputs": [],
      "source": [
        "# Creating a synthetic dataset\n",
        "data = {\n",
        "    'age': [25, np.nan, 35, 45, 50],\n",
        "    'salary': [50000, 60000, np.nan, 80000, 85000],\n",
        "    'city': ['New York', 'Los Angeles', 'New York', 'San Francisco', np.nan],\n",
        "    'purchased': ['No', 'Yes', 'No', 'Yes', 'No']\n",
        "}"
      ]
    },
    {
      "cell_type": "code",
      "execution_count": null,
      "metadata": {
        "id": "gtZyhbu0To_v"
      },
      "outputs": [],
      "source": [
        "df = pd.DataFrame(data)"
      ]
    },
    {
      "cell_type": "code",
      "execution_count": null,
      "metadata": {
        "id": "l0uBu9SPTo_v"
      },
      "outputs": [],
      "source": [
        "# Separating features and target variable\n",
        "X = df.drop('purchased', axis=1)\n",
        "y = df['purchased']"
      ]
    },
    {
      "cell_type": "code",
      "execution_count": null,
      "metadata": {
        "id": "yy9zuEa1To_w"
      },
      "outputs": [],
      "source": [
        "# Define which columns are numeric and which are categorical\n",
        "numeric_features = ['age', 'salary']\n",
        "categorical_features = ['city']\n"
      ]
    },
    {
      "cell_type": "code",
      "execution_count": null,
      "metadata": {
        "id": "mbkI0IZNTo_w"
      },
      "outputs": [],
      "source": [
        "# Creating transformers for the preprocessing steps\n",
        "numeric_transformer = Pipeline(steps=[\n",
        "    ('imputer', SimpleImputer(strategy='mean')),\n",
        "    ('scaler', StandardScaler())\n",
        "])"
      ]
    },
    {
      "cell_type": "code",
      "execution_count": null,
      "metadata": {
        "id": "EIpgbpDiTo_x"
      },
      "outputs": [],
      "source": [
        "categorical_transformer = Pipeline(steps=[\n",
        "    ('imputer', SimpleImputer(strategy='most_frequent')),\n",
        "    ('onehot', OneHotEncoder(handle_unknown='ignore'))\n",
        "])"
      ]
    },
    {
      "cell_type": "code",
      "execution_count": null,
      "metadata": {
        "id": "yvg3nQ4ETo_x"
      },
      "outputs": [],
      "source": [
        "# Combining transformers using ColumnTransformer\n",
        "preprocessor = ColumnTransformer(\n",
        "    transformers=[\n",
        "        ('num', numeric_transformer, numeric_features),\n",
        "        ('cat', categorical_transformer, categorical_features)\n",
        "    ])"
      ]
    },
    {
      "cell_type": "code",
      "execution_count": null,
      "metadata": {
        "id": "FsAPoEYGTo_x"
      },
      "outputs": [],
      "source": [
        "# Preprocessing the dataset\n",
        "X_preprocessed = preprocessor.fit_transform(X)\n"
      ]
    },
    {
      "cell_type": "code",
      "execution_count": null,
      "metadata": {
        "id": "h1DQCpvpTo_y",
        "outputId": "2d00e90f-6f19-4ca4-dc76-e9a14b84cb68"
      },
      "outputs": [
        {
          "name": "stdout",
          "output_type": "stream",
          "text": [
            "Preprocessed Features:\n",
            "[[-1.6011119  -1.46524625  0.          1.          0.        ]\n",
            " [ 0.         -0.68378158  1.          0.          0.        ]\n",
            " [-0.43666688  0.          0.          1.          0.        ]\n",
            " [ 0.72777814  0.87914775  0.          0.          1.        ]\n",
            " [ 1.31000065  1.26988008  0.          1.          0.        ]]\n"
          ]
        }
      ],
      "source": [
        "# Showing the result of preprocessing\n",
        "print(\"Preprocessed Features:\")\n",
        "print(X_preprocessed.toarray() if hasattr(X_preprocessed, \"toarray\") else X_preprocessed)\n"
      ]
    },
    {
      "cell_type": "code",
      "execution_count": null,
      "metadata": {
        "id": "_Lg8IO2ETo_z"
      },
      "outputs": [],
      "source": [
        "# Splitting the data into training and testing sets\n",
        "X_train, X_test, y_train, y_test = train_test_split(X_preprocessed, y, test_size=0.2, random_state=42)\n"
      ]
    },
    {
      "cell_type": "code",
      "execution_count": null,
      "metadata": {
        "id": "Ql17YVbsTo_0",
        "outputId": "3236d81b-ac58-4cd2-81da-3d303a00332d"
      },
      "outputs": [
        {
          "name": "stdout",
          "output_type": "stream",
          "text": [
            "\n",
            "Training Features:\n",
            "[[ 1.31000065  1.26988008  0.          1.          0.        ]\n",
            " [-0.43666688  0.          0.          1.          0.        ]\n",
            " [-1.6011119  -1.46524625  0.          1.          0.        ]\n",
            " [ 0.72777814  0.87914775  0.          0.          1.        ]]\n",
            "\n",
            "Testing Features:\n",
            "[[ 0.         -0.68378158  1.          0.          0.        ]]\n",
            "\n",
            "Training Target:\n",
            "4     No\n",
            "2     No\n",
            "0     No\n",
            "3    Yes\n",
            "Name: purchased, dtype: object\n",
            "\n",
            "Testing Target:\n",
            "1    Yes\n",
            "Name: purchased, dtype: object\n"
          ]
        }
      ],
      "source": [
        "# Printing the split datasets\n",
        "print(\"\\nTraining Features:\")\n",
        "print(X_train)\n",
        "print(\"\\nTesting Features:\")\n",
        "print(X_test)\n",
        "print(\"\\nTraining Target:\")\n",
        "print(y_train)\n",
        "print(\"\\nTesting Target:\")\n",
        "print(y_test)"
      ]
    }
  ],
  "metadata": {
    "kernelspec": {
      "display_name": "Python 3",
      "language": "python",
      "name": "python3"
    },
    "language_info": {
      "codemirror_mode": {
        "name": "ipython",
        "version": 3
      },
      "file_extension": ".py",
      "mimetype": "text/x-python",
      "name": "python",
      "nbconvert_exporter": "python",
      "pygments_lexer": "ipython3",
      "version": "3.11.2"
    },
    "colab": {
      "provenance": []
    }
  },
  "nbformat": 4,
  "nbformat_minor": 0
}